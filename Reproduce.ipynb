{
 "cells": [
  {
   "cell_type": "code",
   "execution_count": 38,
   "metadata": {},
   "outputs": [
    {
     "name": "stdout",
     "output_type": "stream",
     "text": [
      "2.0.0+cu117\n"
     ]
    }
   ],
   "source": [
    "import torch\n",
    "from torch import nn\n",
    "import torch.functional as F\n",
    "from torch import optim\n",
    "\n",
    "print(torch.__version__)"
   ]
  },
  {
   "cell_type": "code",
   "execution_count": 50,
   "metadata": {},
   "outputs": [],
   "source": [
    "class Encoder(nn.Module):\n",
    "    def __init__(self, hidden_dim: list = [500,200,100], activation: nn.Module = nn.Tanh(), use_batchnorm: bool = True):\n",
    "        super().__init__()\n",
    "        self.n_hidden = len(hidden_dim)\n",
    "        self.hidden_dim: int = hidden_dim\n",
    "        self.hidden: nn.ModuleList  = nn.ModuleList([nn.Linear(hidden_dim[i],hidden_dim[i+1]) for i in range(len(hidden_dim)-1)]) #store linear layers\n",
    "        self.batchnorm: nn.ModuleList = nn.ModuleList([nn.BatchNorm1d(hidden_dim[i],hidden_dim[i+1]) for i in range(1,len(hidden_dim)-1)]) #store batchnorm layers\n",
    "        self.activation: nn.Module = activation\n",
    "        self.use_batchnorm: bool = use_batchnorm\n",
    "        self.sequential = self._get_sequential()\n",
    "\n",
    "    def _get_sequential(self): #compile to nn.Sequential\n",
    "        res = nn.Sequential()\n",
    "        for i, lin in enumerate(self.hidden):\n",
    "            res.append(lin)\n",
    "            res.append(self.activation)\n",
    "            if self.use_batchnorm and i != self.n_hidden-2:\n",
    "                res.append(self.batchnorm[i])\n",
    "        return res\n",
    "\n",
    "    def forward(self, x):\n",
    "        out = x\n",
    "        print(out.shape)\n",
    "        for i, lin in enumerate(self.hidden):\n",
    "            out = lin(out)\n",
    "            out = self.activation(out)\n",
    "            if self.use_batchnorm and i != self.n_hidden-2:\n",
    "                out = self.batchnorm[i](out)\n",
    "        return out"
   ]
  },
  {
   "cell_type": "code",
   "execution_count": 51,
   "metadata": {},
   "outputs": [
    {
     "name": "stdout",
     "output_type": "stream",
     "text": [
      "torch.Size([20, 500])\n",
      "Encoder(\n",
      "  (hidden): ModuleList(\n",
      "    (0): Linear(in_features=500, out_features=200, bias=True)\n",
      "    (1): Linear(in_features=200, out_features=100, bias=True)\n",
      "    (2): Linear(in_features=100, out_features=20, bias=True)\n",
      "  )\n",
      "  (batchnorm): ModuleList(\n",
      "    (0): BatchNorm1d(200, eps=100, momentum=0.1, affine=True, track_running_stats=True)\n",
      "    (1): BatchNorm1d(100, eps=20, momentum=0.1, affine=True, track_running_stats=True)\n",
      "  )\n",
      "  (activation): Tanh()\n",
      "  (sequential): Sequential(\n",
      "    (0): Linear(in_features=500, out_features=200, bias=True)\n",
      "    (1): BatchNorm1d(200, eps=100, momentum=0.1, affine=True, track_running_stats=True)\n",
      "    (2): Linear(in_features=200, out_features=100, bias=True)\n",
      "    (3): BatchNorm1d(100, eps=20, momentum=0.1, affine=True, track_running_stats=True)\n",
      "    (4): Linear(in_features=100, out_features=20, bias=True)\n",
      "  )\n",
      ")\n",
      "hidden.0.weight torch.Size([200, 500])\n",
      "hidden.0.bias torch.Size([200])\n",
      "hidden.1.weight torch.Size([100, 200])\n",
      "hidden.1.bias torch.Size([100])\n",
      "hidden.2.weight torch.Size([20, 100])\n",
      "hidden.2.bias torch.Size([20])\n",
      "batchnorm.0.weight torch.Size([200])\n",
      "batchnorm.0.bias torch.Size([200])\n",
      "batchnorm.1.weight torch.Size([100])\n",
      "batchnorm.1.bias torch.Size([100])\n"
     ]
    }
   ],
   "source": [
    "#Test\n",
    "N = 20 #batch_size\n",
    "input_dim = 500\n",
    "factor_dim = 20\n",
    "enc = Encoder(hidden_dim = [input_dim, 200, 100, factor_dim])\n",
    "X = torch.randn(N, input_dim)\n",
    "res = enc.forward(X)\n",
    "print(enc)\n",
    "for name, param in enc.named_parameters():\n",
    "    print(name, param.size())"
   ]
  },
  {
   "cell_type": "code",
   "execution_count": null,
   "metadata": {},
   "outputs": [],
   "source": []
  }
 ],
 "metadata": {
  "kernelspec": {
   "display_name": "Python 3 (ipykernel)",
   "language": "python",
   "name": "python3"
  },
  "language_info": {
   "codemirror_mode": {
    "name": "ipython",
    "version": 3
   },
   "file_extension": ".py",
   "mimetype": "text/x-python",
   "name": "python",
   "nbconvert_exporter": "python",
   "pygments_lexer": "ipython3",
   "version": "3.10.4"
  },
  "orig_nbformat": 4
 },
 "nbformat": 4,
 "nbformat_minor": 2
}
